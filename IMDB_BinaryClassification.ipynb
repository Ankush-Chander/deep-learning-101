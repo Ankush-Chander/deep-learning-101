{
  "nbformat": 4,
  "nbformat_minor": 0,
  "metadata": {
    "colab": {
      "name": "IMDB_BinaryClassification.ipynb",
      "provenance": [],
      "authorship_tag": "ABX9TyP+17leqtaemcfVW6wah5uW",
      "include_colab_link": true
    },
    "kernelspec": {
      "name": "python3",
      "display_name": "Python 3"
    },
    "language_info": {
      "name": "python"
    }
  },
  "cells": [
    {
      "cell_type": "markdown",
      "metadata": {
        "id": "view-in-github",
        "colab_type": "text"
      },
      "source": [
        "<a href=\"https://colab.research.google.com/github/Ankush-Chander/deep-learning-101/blob/main/IMDB_BinaryClassification.ipynb\" target=\"_parent\"><img src=\"https://colab.research.google.com/assets/colab-badge.svg\" alt=\"Open In Colab\"/></a>"
      ]
    },
    {
      "cell_type": "code",
      "execution_count": null,
      "metadata": {
        "colab": {
          "base_uri": "https://localhost:8080/"
        },
        "id": "XEbuOgYy3O_B",
        "outputId": "72cf1fe4-93d0-4e1f-d095-627206c28e94"
      },
      "outputs": [
        {
          "output_type": "stream",
          "name": "stdout",
          "text": [
            "Downloading data from https://storage.googleapis.com/tensorflow/tf-keras-datasets/imdb.npz\n",
            "17465344/17464789 [==============================] - 0s 0us/step\n",
            "17473536/17464789 [==============================] - 0s 0us/step\n"
          ]
        }
      ],
      "source": [
        "# load database\n",
        "from tensorflow.keras.datasets import imdb\n",
        "(train_data, train_labels), (test_data, test_labels) = imdb.load_data(\n",
        "num_words=10000)"
      ]
    },
    {
      "cell_type": "code",
      "source": [
        "# decoding reviews back to text \n",
        "train_data[0]\n",
        "train_labels[0]\n",
        "word_index = imdb.get_word_index()\n",
        "reverse_word_index = {val:key for key, val in word_index.items()}\n",
        "decoded_review = \" \".join([reverse_word_index.get(i-3, \"?\") for i in train_data[0]])\n",
        "print(decoded_review)\n"
      ],
      "metadata": {
        "colab": {
          "base_uri": "https://localhost:8080/"
        },
        "id": "MwZMEph63nhG",
        "outputId": "8e38b5fd-b633-4d03-9f0d-38499775b0a4"
      },
      "execution_count": null,
      "outputs": [
        {
          "output_type": "stream",
          "name": "stdout",
          "text": [
            "? this film was just brilliant casting location scenery story direction everyone's really suited the part they played and you could just imagine being there robert ? is an amazing actor and now the same being director ? father came from the same scottish island as myself so i loved the fact there was a real connection with this film the witty remarks throughout the film were great it was just brilliant so much that i bought the film as soon as it was released for ? and would recommend it to everyone to watch and the fly fishing was amazing really cried at the end it was so sad and you know what they say if you cry at a film it must have been good and this definitely was also ? to the two little boy's that played the ? of norman and paul they were just brilliant children are often left out of the ? list i think because the stars that play them all grown up are such a big profile for the whole film but these children are amazing and should be praised for what they have done don't you think the whole story was so lovely because it was true and was someone's life after all that was shared with us all\n"
          ]
        }
      ]
    },
    {
      "cell_type": "code",
      "source": [
        "# encode the integer sequence with multi hot encoding\n",
        "import numpy as np\n",
        "def vectorize_sequences(sequences, dimension=10000):\n",
        "  results = np.zeros((len(sequences), dimension))\n",
        "  for sample_index, sequence in enumerate(sequences):\n",
        "    for word_index in sequence:\n",
        "      results[sample_index][word_index] = 1\n",
        "  return results\n",
        "\n",
        "x_train = vectorize_sequences(train_data)\n",
        "x_test = vectorize_sequences(test_data)\n",
        "\n",
        "y_train = np.asarray(train_labels).astype(\"float32\")\n",
        "y_test = np.asarray(test_labels).astype(\"float32\")"
      ],
      "metadata": {
        "id": "bJTlkmBL5xOu"
      },
      "execution_count": null,
      "outputs": []
    },
    {
      "cell_type": "code",
      "source": [
        "# model definition\n",
        "from tensorflow import keras\n",
        "from tensorflow.keras import layers\n",
        "model = keras.Sequential([\n",
        "    layers.Dense(16, activation=\"relu\"),\n",
        "    layers.Dense(16, activation=\"relu\"),\n",
        "    layers.Dense(1, activation=\"sigmoid\")\n",
        "])\n",
        "\n",
        "# compile the model\n",
        "model.compile(optimizer=\"rmsprop\", loss=\"binary_crossentropy\", metrics=[\"accuracy\"])\n"
      ],
      "metadata": {
        "id": "PlgAt_b9-Cgx"
      },
      "execution_count": null,
      "outputs": []
    },
    {
      "cell_type": "code",
      "source": [
        "# set aside validation data\n",
        "x_val = x_train[:10000]\n",
        "partial_x_train = x_train[10000:]\n",
        "y_val = y_train[:10000]\n",
        "partial_y_train = y_train[10000:]\n"
      ],
      "metadata": {
        "id": "ZPS6ICSD_mst"
      },
      "execution_count": null,
      "outputs": []
    },
    {
      "cell_type": "code",
      "source": [
        "# Train the model\n",
        "history = model.fit(partial_x_train, partial_y_train, epochs=20, batch_size=512, validation_data=(x_val, y_val))\n",
        "\n",
        "history_dict = history.history\n",
        "history_dict.keys()"
      ],
      "metadata": {
        "colab": {
          "base_uri": "https://localhost:8080/"
        },
        "id": "fZCYSWYM_5_a",
        "outputId": "429f1a84-766c-4114-e880-badf469c92b2"
      },
      "execution_count": null,
      "outputs": [
        {
          "output_type": "stream",
          "name": "stdout",
          "text": [
            "Epoch 1/20\n",
            "30/30 [==============================] - 3s 67ms/step - loss: 0.5088 - accuracy: 0.7873 - val_loss: 0.3835 - val_accuracy: 0.8677\n",
            "Epoch 2/20\n",
            "30/30 [==============================] - 1s 50ms/step - loss: 0.3009 - accuracy: 0.9038 - val_loss: 0.3013 - val_accuracy: 0.8889\n",
            "Epoch 3/20\n",
            "30/30 [==============================] - 1s 49ms/step - loss: 0.2219 - accuracy: 0.9271 - val_loss: 0.2785 - val_accuracy: 0.8890\n",
            "Epoch 4/20\n",
            "30/30 [==============================] - 2s 51ms/step - loss: 0.1770 - accuracy: 0.9425 - val_loss: 0.3005 - val_accuracy: 0.8798\n",
            "Epoch 5/20\n",
            "30/30 [==============================] - 1s 50ms/step - loss: 0.1465 - accuracy: 0.9531 - val_loss: 0.2835 - val_accuracy: 0.8879\n",
            "Epoch 6/20\n",
            "30/30 [==============================] - 1s 49ms/step - loss: 0.1189 - accuracy: 0.9633 - val_loss: 0.3590 - val_accuracy: 0.8622\n",
            "Epoch 7/20\n",
            "30/30 [==============================] - 1s 50ms/step - loss: 0.0998 - accuracy: 0.9708 - val_loss: 0.3145 - val_accuracy: 0.8806\n",
            "Epoch 8/20\n",
            "30/30 [==============================] - 1s 49ms/step - loss: 0.0818 - accuracy: 0.9757 - val_loss: 0.3286 - val_accuracy: 0.8793\n",
            "Epoch 9/20\n",
            "30/30 [==============================] - 1s 49ms/step - loss: 0.0673 - accuracy: 0.9825 - val_loss: 0.3518 - val_accuracy: 0.8777\n",
            "Epoch 10/20\n",
            "30/30 [==============================] - 1s 49ms/step - loss: 0.0552 - accuracy: 0.9860 - val_loss: 0.3763 - val_accuracy: 0.8763\n",
            "Epoch 11/20\n",
            "30/30 [==============================] - 1s 49ms/step - loss: 0.0461 - accuracy: 0.9887 - val_loss: 0.4290 - val_accuracy: 0.8686\n",
            "Epoch 12/20\n",
            "30/30 [==============================] - 1s 49ms/step - loss: 0.0367 - accuracy: 0.9922 - val_loss: 0.4430 - val_accuracy: 0.8699\n",
            "Epoch 13/20\n",
            "30/30 [==============================] - 1s 50ms/step - loss: 0.0286 - accuracy: 0.9947 - val_loss: 0.4786 - val_accuracy: 0.8730\n",
            "Epoch 14/20\n",
            "30/30 [==============================] - 1s 49ms/step - loss: 0.0229 - accuracy: 0.9962 - val_loss: 0.4995 - val_accuracy: 0.8700\n",
            "Epoch 15/20\n",
            "30/30 [==============================] - 1s 50ms/step - loss: 0.0174 - accuracy: 0.9979 - val_loss: 0.5465 - val_accuracy: 0.8715\n",
            "Epoch 16/20\n",
            "30/30 [==============================] - 1s 49ms/step - loss: 0.0141 - accuracy: 0.9982 - val_loss: 0.5775 - val_accuracy: 0.8675\n",
            "Epoch 17/20\n",
            "30/30 [==============================] - 1s 49ms/step - loss: 0.0125 - accuracy: 0.9982 - val_loss: 0.6128 - val_accuracy: 0.8667\n",
            "Epoch 18/20\n",
            "30/30 [==============================] - 2s 50ms/step - loss: 0.0062 - accuracy: 0.9998 - val_loss: 0.6565 - val_accuracy: 0.8663\n",
            "Epoch 19/20\n",
            "30/30 [==============================] - 1s 49ms/step - loss: 0.0065 - accuracy: 0.9995 - val_loss: 0.7000 - val_accuracy: 0.8626\n",
            "Epoch 20/20\n",
            "30/30 [==============================] - 1s 50ms/step - loss: 0.0065 - accuracy: 0.9989 - val_loss: 0.7334 - val_accuracy: 0.8632\n"
          ]
        },
        {
          "output_type": "execute_result",
          "data": {
            "text/plain": [
              "dict_keys(['loss', 'accuracy', 'val_loss', 'val_accuracy'])"
            ]
          },
          "metadata": {},
          "execution_count": 17
        }
      ]
    },
    {
      "cell_type": "code",
      "source": [
        "# plotting training and validation loss\n",
        "import matplotlib.pyplot as plt\n",
        "history_dict = history.history \n",
        "loss_values = history_dict[\"loss\"]\n",
        "val_loss_values = history_dict[\"val_loss\"]\n",
        "epochs = range(1, len(loss_values) + 1)\n",
        "plt.plot(epochs, loss_values, \"bo\", label=\"Training Loss\")\n",
        "plt.plot(epochs, val_loss_values, \"b\", label=\"Validation Loss\")\n",
        "plt.title(\"Traning and Validation Loss\")\n",
        "plt.xlabel(\"Epochs\")\n",
        "plt.ylabel(\"Loss calues\")\n",
        "plt.legend()\n",
        "plt.show()\n"
      ],
      "metadata": {
        "colab": {
          "base_uri": "https://localhost:8080/",
          "height": 295
        },
        "id": "uaAvnXB2Jumo",
        "outputId": "eaa18b05-a61e-4c8e-b1d6-783da0d58bd2"
      },
      "execution_count": null,
      "outputs": [
        {
          "output_type": "display_data",
          "data": {
            "text/plain": [
              "<Figure size 432x288 with 1 Axes>"
            ],
            "image/png": "[encoded data removed]"
          },
          "metadata": {
            "needs_background": "light"
          }
        }
      ]
    }
  ]
}